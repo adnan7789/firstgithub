{
 "cells": [
  {
   "cell_type": "markdown",
   "id": "14746710",
   "metadata": {},
   "source": [
    "# Python ka chilla with #baba_ammar\n",
    "## How to use Jupyter Note Book \n",
    "## Basics of Python\n",
    "### **01- My first program**\n"
   ]
  },
  {
   "cell_type": "code",
   "execution_count": 1,
   "id": "18a6ba6d",
   "metadata": {},
   "outputs": [
    {
     "name": "stdout",
     "output_type": "stream",
     "text": [
      "Hello Pythom i am here to learn you.\n",
      "8\n",
      "I started learning pyhton on 21-02-22\n",
      "23\n",
      "Python again learning start on 21-06-22\n",
      "0.6666666666666666\n"
     ]
    }
   ],
   "source": [
    "print(\"Hello Pythom i am here to learn you.\")\n",
    "print(2*4)\n",
    "print(\"I started learning pyhton on 21-02-22\")\n",
    "print(2*4+15)\n",
    "print(\"Python again learning start on 21-06-22\")\n",
    "print(2/3)"
   ]
  },
  {
   "cell_type": "markdown",
   "id": "125dd734",
   "metadata": {},
   "source": [
    "### **02- Operators**"
   ]
  },
  {
   "cell_type": "code",
   "execution_count": 2,
   "id": "3c0ca9d4",
   "metadata": {},
   "outputs": [
    {
     "name": "stdout",
     "output_type": "stream",
     "text": [
      "13\n",
      "6\n",
      "35\n",
      "1.8\n",
      "1\n",
      "4\n",
      "16\n",
      "244.0\n"
     ]
    }
   ],
   "source": [
    "print(5+8)\n",
    "print(9-3)\n",
    "print(7*5)\n",
    "print(9/5)\n",
    "print(9//5)\n",
    "print(9%5)\n",
    "print(2**4)\n",
    "\n",
    "print(6-8*9/4+4**4)\n"
   ]
  },
  {
   "cell_type": "markdown",
   "id": "f3e28938",
   "metadata": {},
   "source": [
    "*PEMDAS rule used* "
   ]
  },
  {
   "cell_type": "markdown",
   "id": "8e86b66a",
   "metadata": {},
   "source": [
    "### **03- Strings**"
   ]
  },
  {
   "cell_type": "code",
   "execution_count": 3,
   "id": "9497010b",
   "metadata": {},
   "outputs": [
    {
     "name": "stdout",
     "output_type": "stream",
     "text": [
      "Test for single quote\n",
      "test for double quote\n",
      "test for triple quote \n",
      "what's up\n",
      "   what's up   ?\n"
     ]
    }
   ],
   "source": [
    "print('Test for single quote')\n",
    "print(\"test for double quote\")\n",
    "#print(''' test for triple quote ''')\n",
    "print('''test for triple quote ''')\n",
    "\n",
    "print(\"what's up\")\n",
    "print(\"   what's up   ?\")\n"
   ]
  },
  {
   "cell_type": "markdown",
   "id": "8d2f4ee3",
   "metadata": {},
   "source": [
    "### **04- Comments in Python**\n",
    "The shortcut key to comment is **ctrl+/**"
   ]
  },
  {
   "cell_type": "code",
   "execution_count": 4,
   "id": "7dd0d02d",
   "metadata": {},
   "outputs": [
    {
     "name": "stdout",
     "output_type": "stream",
     "text": [
      "how are you?\n",
      "learning comments\n",
      "9\n"
     ]
    }
   ],
   "source": [
    "print(\"how are you?\") #press these to comment out ctrl+/\n",
    "print(\"learning comments\") #print a string \n",
    "print(2+7) #print operator function with numbers"
   ]
  },
  {
   "cell_type": "markdown",
   "id": "6a811e7e",
   "metadata": {},
   "source": [
    "### **05- Variables**"
   ]
  },
  {
   "cell_type": "code",
   "execution_count": 5,
   "id": "f8e55fe6",
   "metadata": {},
   "outputs": [
    {
     "name": "stdout",
     "output_type": "stream",
     "text": [
      "5\n",
      "i am learning python\n",
      "29\n",
      "<class 'int'>\n",
      "<class 'str'>\n",
      "mangoes\n",
      "<class 'str'>\n"
     ]
    }
   ],
   "source": [
    "#variables: objects containing specific value\n",
    "x = 5  #numeric or integer variable\n",
    "print(x) \n",
    "y=\"i am learning python\" #string variable\n",
    "print(y)\n",
    "x=x+24\n",
    "print(x)\n",
    "\n",
    "\n",
    "#types/class of variables\n",
    "type(x)\n",
    "print(type(x))\n",
    "\n",
    "print(type(y))\n",
    "\n",
    "\n",
    "# Rules to assign a variable\n",
    "# 1- the variable should contain number, letters or underscore\n",
    "# 2- do not start with number\n",
    "# 3- spaces are not allowed\n",
    "# 4- do not use keywords used in functions (eg break, mean etc)\n",
    "# 5- short and descriptive\n",
    "# 6- case sensitive (try to use lower case letters)\n",
    "\n",
    "\n",
    "\n",
    "fruit_basket= 8\n",
    "fruit_basket= \"mangoes\"\n",
    "#del fruit_basket #to delete variable\n",
    "print(fruit_basket)\n",
    "print(type(fruit_basket))"
   ]
  },
  {
   "cell_type": "markdown",
   "id": "3db86aa1",
   "metadata": {},
   "source": [
    "### **06- Input Variables**"
   ]
  },
  {
   "cell_type": "code",
   "execution_count": 6,
   "id": "59853508",
   "metadata": {},
   "outputs": [
    {
     "name": "stdout",
     "output_type": "stream",
     "text": [
      "what is your name? Adnan\n",
      "how old are you? 32\n",
      "Hello! Adnan , you are still young\n"
     ]
    }
   ],
   "source": [
    "#fruit_basket= \"Mangoes\"\n",
    "#print(fruit_basket)\n",
    "\n",
    "\n",
    "\n",
    " # input function simple\n",
    "#fruit_basket=input(\"what is your favorite fruit? \")\n",
    "#print(fruit_basket)\n",
    "\n",
    "\n",
    "# input function of second stage\n",
    "#name= input(\"what is your name? \")\n",
    "#greetings= \"hello!\"\n",
    "#print(greetings, name)\n",
    "\n",
    "# another way of stage 2 input function\n",
    "\n",
    "#name= input(\"what is your name? \")\n",
    "#print(\"Hello!\", name)\n",
    "\n",
    "\n",
    "# 3rd stage input function\n",
    "\n",
    "name = input(\"what is your name? \")\n",
    "age = input(\"how old are you? \")\n",
    "greetings=\"Hello!\"\n",
    "print(greetings, name,\", you are still young\" )"
   ]
  },
  {
   "cell_type": "markdown",
   "id": "b945d8b3",
   "metadata": {},
   "source": [
    "### **07- Conditional Logics**"
   ]
  },
  {
   "cell_type": "code",
   "execution_count": 7,
   "id": "07144f85",
   "metadata": {
    "scrolled": false
   },
   "outputs": [
    {
     "name": "stdout",
     "output_type": "stream",
     "text": [
      "True\n",
      "False\n",
      "True\n",
      "False\n",
      "False\n",
      "False\n",
      "how old is Hammad? 2\n",
      "<class 'int'>\n",
      "False\n"
     ]
    }
   ],
   "source": [
    "# logical operators are either \"true or false\" ,\"yes or no\", \"0 or 1\" \n",
    "# equal to              ==\n",
    "# not equal to          !=\n",
    "# less than             <\n",
    "# greater than          >\n",
    "# less or equal         <=\n",
    "# greater or equal      >=\n",
    "# is 4 equal to 4\n",
    "\n",
    "print(4==4)\n",
    "print(4!=4)\n",
    "print(4>3)\n",
    "print(4<3)\n",
    "print(5>=7)\n",
    "print(6<=3)\n",
    "\n",
    "# application of logical operators\n",
    "\n",
    "\n",
    "#haris_age=4\n",
    "#age_at_school=6\n",
    "#print(haris_age==age_at_school)\n",
    "\n",
    "\n",
    "# haris_age=4\n",
    "# age_at_school=6\n",
    "# print(haris_age<=age_at_school)\n",
    "\n",
    "\n",
    "# haris_age=4\n",
    "# age_at_school=6\n",
    "# print(haris_age>=age_at_school)\n",
    "\n",
    "# input function and ligical operators\n",
    "age_at_school=6\n",
    "hammad_age=input(\"how old is Hammad? \") #input function \n",
    "hammad_age=int(hammad_age)\n",
    "print(type(hammad_age))\n",
    "print(hammad_age==age_at_school) # logical operator"
   ]
  },
  {
   "cell_type": "markdown",
   "id": "aca50608",
   "metadata": {},
   "source": [
    "### **08- Type Conversion**"
   ]
  },
  {
   "cell_type": "code",
   "execution_count": 8,
   "id": "e6cec3e8",
   "metadata": {},
   "outputs": [
    {
     "name": "stdout",
     "output_type": "stream",
     "text": [
      "what is your age? 32\n",
      "32 <class 'float'>\n",
      "what is your name? Adnan\n",
      "Adnan <class 'str'>\n"
     ]
    }
   ],
   "source": [
    "# x = 10              #integer\n",
    "# y = 10.5            #flaot\n",
    "# z = \"Hello\"         #string\n",
    "\n",
    "\n",
    "# # implicit type conversion\n",
    "# x = x+y\n",
    "\n",
    "# print(x, \"class of x: \", type(x))\n",
    "\n",
    "# explicit type conversion\n",
    "\n",
    "age=input(\"what is your age? \")\n",
    "age=int(age)\n",
    "print(age, type(float(age)))\n",
    "\n",
    "#name\n",
    "name=input(\"what is your name? \")\n",
    "print(name, type(str(name)))"
   ]
  },
  {
   "cell_type": "markdown",
   "id": "0c2f52d4",
   "metadata": {},
   "source": [
    "### **09- If, Else, Elif**"
   ]
  },
  {
   "cell_type": "code",
   "execution_count": 9,
   "id": "5bcddd94",
   "metadata": {},
   "outputs": [
    {
     "name": "stdout",
     "output_type": "stream",
     "text": [
      "Congratulations! Haris can join the school.\n"
     ]
    }
   ],
   "source": [
    "required_age_at_school =5 \n",
    "haris_age = 5\n",
    "\n",
    "# Question: can haris go to school?\n",
    "\n",
    "if haris_age==required_age_at_school:\n",
    "    print(\"Congratulations! Haris can join the school.\")\n",
    "elif haris_age > required_age_at_school:\n",
    "    print(\"Haris should join higher secondary school.\") # can use multiple elif statements\n",
    "elif haris_age<= 3:\n",
    "    print(\"You should take care of Haris he is still baby.\")\n",
    "else:\n",
    "    print(\"Haris can not go to school.\")"
   ]
  },
  {
   "cell_type": "markdown",
   "id": "10e18e2b",
   "metadata": {},
   "source": [
    "### **10- Functions**"
   ]
  },
  {
   "cell_type": "code",
   "execution_count": 10,
   "id": "17c1e71f",
   "metadata": {},
   "outputs": [
    {
     "name": "stdout",
     "output_type": "stream",
     "text": [
      "Haris is still a baby.\n"
     ]
    }
   ],
   "source": [
    "# print(\"I am learning Python with Ammar\")\n",
    "# print(\"I am learning Python with Ammar\")\n",
    "# print(\"I am learning Python with Ammar\")\n",
    "# print(\"I am learning Python with Ammar\")\n",
    "# print(\"I am learning Python with Ammar\")\n",
    "\n",
    "# defining a function\n",
    "\n",
    "# Method No. 1\n",
    "\n",
    "\n",
    "# def print_adnan():\n",
    "#     print(\"I am learning Python with Ammar\")\n",
    "#     print(\"I am learning Python with Ammar\")\n",
    "#     print(\"I am learning Python with Ammar\")\n",
    "#     print(\"I am learning Python with Ammar\")\n",
    "# print_adnan()\n",
    "\n",
    "# Method No. 2\n",
    "\n",
    "\n",
    "\n",
    "# def print_adnan():\n",
    "#     text = \"I am learning Python with Ammar on codanics youtube channel\"\n",
    "#     print(text)\n",
    "#     print(text)\n",
    "#     print(text)\n",
    "#     print(text)\n",
    "\n",
    "# print_adnan()\n",
    "\n",
    "# another way to define a function ......print word is not necessary for defining a function\n",
    "# def adnan():\n",
    "#     text= \"i am learning python\"\n",
    "#     print(text)\n",
    "#     print(text)\n",
    "# adnan()\n",
    "\n",
    "\n",
    "\n",
    "# Method No. 3\n",
    "\n",
    "\n",
    "\n",
    "# def print_adnan(text):\n",
    "#     print(text)\n",
    "#     print(text)\n",
    "#     print(text)\n",
    "# print_adnan(\"i am learning python with bab ammar on his youtube channel.\")\n",
    "\n",
    "\n",
    "# Method No. 3 defining a function using if, elif and else statment\n",
    "\n",
    "\n",
    "\n",
    "# def school_calculator(age, text):\n",
    "#     if age== 5:\n",
    "#         print(\"Haris can join the school.\")\n",
    "#     elif age> 5:\n",
    "#         print(\"Haris should go to high school.\")\n",
    "#     else:\n",
    "#         print(\"Haris is still a baby.\")\n",
    "# school_calculator(8, \"Haris\") \n",
    "\n",
    "# Or above formula can also be written as\n",
    "\n",
    "\n",
    "def school_calculator(age):\n",
    "    if age== 5:\n",
    "        print(\"Haris can join the school.\")\n",
    "    elif age> 5:\n",
    "        print(\"Haris should go to high school.\")\n",
    "    else:\n",
    "        print(\"Haris is still a baby.\")\n",
    "school_calculator(3)\n",
    "\n",
    "\n",
    "\n",
    "# defining a function of future\n",
    "\n",
    "\n",
    "# def future_age(age):\n",
    "#     new_age=age+20\n",
    "#     return new_age\n",
    "#     print(new_age)\n",
    "# future_predicted_age=future_age(26)\n",
    "# print(future_predicted_age)\n",
    "\n",
    "\n",
    "\n",
    "\n",
    "\n",
    "\n",
    "\n"
   ]
  },
  {
   "cell_type": "markdown",
   "id": "a5f33da4",
   "metadata": {},
   "source": [
    "### **11- Loops**"
   ]
  },
  {
   "cell_type": "code",
   "execution_count": 11,
   "id": "0ca3c394",
   "metadata": {
    "scrolled": false
   },
   "outputs": [
    {
     "name": "stdout",
     "output_type": "stream",
     "text": [
      "4\n",
      "5\n",
      "6\n",
      "7\n",
      "8\n",
      "January\n",
      "february\n",
      "march\n",
      "april\n",
      "may\n",
      "june\n",
      "august\n",
      "september\n",
      "october\n",
      "november\n",
      "december\n"
     ]
    }
   ],
   "source": [
    "# two types of loops: while loop and for loop\n",
    "\n",
    "# while Loop\n",
    "\n",
    "#x=0\n",
    "#while (x<4):\n",
    " #    print(x)\n",
    "  #  x=x+1\n",
    "\n",
    "\n",
    "# for loop\n",
    "\n",
    "for x in range(4,9):\n",
    "    print(x)\n",
    "\n",
    "\n",
    "#  Array\n",
    "# days = [\"Mon\", \"Tue\", \"Wed\", \"Thu\", \"Fri\", \"Sat\", \"Sun\"]\n",
    "# for day in days:\n",
    "#     print(day)\n",
    "\n",
    "\n",
    "months = [\"January\", \"february\", \"march\", \"april\", \"may\", \"june\", \"july\", \"august\", \"september\", \"october\", \"november\", \"december\"]\n",
    "for month in months:\n",
    "    # if (month==\"june\"): break            # break used to stop the loop\n",
    "    if (month==\"july\"): continue           # continue used to skip entity(july)\n",
    "    print(month)"
   ]
  },
  {
   "cell_type": "markdown",
   "id": "8711c29b",
   "metadata": {},
   "source": [
    "### **12- Import Library**"
   ]
  },
  {
   "cell_type": "code",
   "execution_count": 12,
   "id": "1e167298",
   "metadata": {
    "scrolled": true
   },
   "outputs": [
    {
     "name": "stdout",
     "output_type": "stream",
     "text": [
      "the value of pi is  3.141592653589793\n",
      "250\n"
     ]
    }
   ],
   "source": [
    "# some already built in functions saved in library\n",
    "# eg if you want to print the value of pi then see below\n",
    "\n",
    "\n",
    "import math\n",
    "print(\"the value of pi is \",math.pi)\n",
    "\n",
    "\n",
    "import statistics\n",
    "x=[100,150,200,250,300,350,400]\n",
    "print(statistics.mean(x))\n",
    "\n",
    "\n",
    "#some important libraries are numpy, pandas, maths, statistics "
   ]
  },
  {
   "cell_type": "markdown",
   "id": "1e839de7",
   "metadata": {},
   "source": [
    "### **13- TroubleShooting**"
   ]
  },
  {
   "cell_type": "code",
   "execution_count": 13,
   "id": "752d02ab",
   "metadata": {
    "scrolled": true
   },
   "outputs": [
    {
     "name": "stdout",
     "output_type": "stream",
     "text": [
      "hello Adnan\n",
      "helloAdnan\n"
     ]
    }
   ],
   "source": [
    "# print(i am learning python with ammar) # syntax error\n",
    "\n",
    "# print(25/0) # runtime error\n",
    "\n",
    "name= \"Adnan\"\n",
    "print(\"hello\", name)   # semantic error/human error\n",
    "print(\"hello\"+name)    # use + sign to remove space b/w hello and adnan"
   ]
  },
  {
   "cell_type": "code",
   "execution_count": null,
   "id": "34b27ef3",
   "metadata": {},
   "outputs": [],
   "source": []
  }
 ],
 "metadata": {
  "kernelspec": {
   "display_name": "Python 3 (ipykernel)",
   "language": "python",
   "name": "python3"
  },
  "language_info": {
   "codemirror_mode": {
    "name": "ipython",
    "version": 3
   },
   "file_extension": ".py",
   "mimetype": "text/x-python",
   "name": "python",
   "nbconvert_exporter": "python",
   "pygments_lexer": "ipython3",
   "version": "3.9.12"
  }
 },
 "nbformat": 4,
 "nbformat_minor": 5
}
