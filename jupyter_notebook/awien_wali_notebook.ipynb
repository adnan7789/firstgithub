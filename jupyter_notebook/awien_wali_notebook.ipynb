{
 "cells": [
  {
   "cell_type": "markdown",
   "id": "8222715e",
   "metadata": {},
   "source": [
    "# Jupyter Notebook"
   ]
  },
  {
   "cell_type": "code",
   "execution_count": 1,
   "id": "3e4c6023",
   "metadata": {
    "scrolled": false
   },
   "outputs": [
    {
     "name": "stdout",
     "output_type": "stream",
     "text": [
      "Python ka chillah with ammar\n"
     ]
    }
   ],
   "source": [
    "print(\"Python ka chillah with ammar\")"
   ]
  },
  {
   "cell_type": "code",
   "execution_count": 2,
   "id": "61ed1439",
   "metadata": {
    "scrolled": true
   },
   "outputs": [
    {
     "data": {
      "text/plain": [
       "'My name is Adnan'"
      ]
     },
     "execution_count": 2,
     "metadata": {},
     "output_type": "execute_result"
    }
   ],
   "source": [
    "adnan = (\"My name is Adnan\")\n",
    "adnan"
   ]
  },
  {
   "cell_type": "code",
   "execution_count": null,
   "id": "06f4709c",
   "metadata": {},
   "outputs": [],
   "source": [
    "import numpy as np\n",
    "import pandas as pd\n",
    "import matplotlib.pyplot as plt\n",
    " \n",
    "data = pd.read_csv(\"Iris.csv\")\n",
    "   \n",
    "print (data.head(10))"
   ]
  }
 ],
 "metadata": {
  "kernelspec": {
   "display_name": "Python 3 (ipykernel)",
   "language": "python",
   "name": "python3"
  },
  "language_info": {
   "codemirror_mode": {
    "name": "ipython",
    "version": 3
   },
   "file_extension": ".py",
   "mimetype": "text/x-python",
   "name": "python",
   "nbconvert_exporter": "python",
   "pygments_lexer": "ipython3",
   "version": "3.9.12"
  }
 },
 "nbformat": 4,
 "nbformat_minor": 5
}
